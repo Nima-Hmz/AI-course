{
 "cells": [
  {
   "cell_type": "code",
   "execution_count": 20,
   "id": "855983dd-5402-4189-ab86-258b379554a4",
   "metadata": {},
   "outputs": [],
   "source": [
    "import numpy as np"
   ]
  },
  {
   "cell_type": "code",
   "execution_count": 22,
   "id": "f1cf56f9-5ddc-46ec-963f-3ada54887acb",
   "metadata": {},
   "outputs": [],
   "source": [
    "arr = np.arange(1, 10)"
   ]
  },
  {
   "cell_type": "code",
   "execution_count": 24,
   "id": "d3449bf3-d8f8-4813-976b-ec235e87a040",
   "metadata": {},
   "outputs": [
    {
     "data": {
      "text/plain": [
       "array([1, 2, 3, 4, 5, 6, 7, 8, 9])"
      ]
     },
     "execution_count": 24,
     "metadata": {},
     "output_type": "execute_result"
    }
   ],
   "source": [
    "arr "
   ]
  },
  {
   "cell_type": "markdown",
   "id": "918bf69a-206c-477b-b871-2f1d39717f9a",
   "metadata": {},
   "source": [
    "# numpy operations "
   ]
  },
  {
   "cell_type": "markdown",
   "id": "7facfab0-54d4-453e-975e-655291903e23",
   "metadata": {},
   "source": [
    "1)"
   ]
  },
  {
   "cell_type": "code",
   "execution_count": 30,
   "id": "f9666f2b-2e40-4f7f-9e7a-df34f7a9a886",
   "metadata": {},
   "outputs": [
    {
     "data": {
      "text/plain": [
       "array([ 6,  7,  8,  9, 10, 11, 12, 13, 14])"
      ]
     },
     "execution_count": 30,
     "metadata": {},
     "output_type": "execute_result"
    }
   ],
   "source": [
    "arr + 5"
   ]
  },
  {
   "cell_type": "markdown",
   "id": "0b9dd23a-de2b-46c2-bf05-59b73abf7cd8",
   "metadata": {},
   "source": [
    "2)"
   ]
  },
  {
   "cell_type": "code",
   "execution_count": 35,
   "id": "9b79884c-1602-41a1-925d-c5d70eae0744",
   "metadata": {},
   "outputs": [
    {
     "data": {
      "text/plain": [
       "array([ 1,  4,  9, 16, 25, 36, 49, 64, 81])"
      ]
     },
     "execution_count": 35,
     "metadata": {},
     "output_type": "execute_result"
    }
   ],
   "source": [
    "arr * arr"
   ]
  },
  {
   "cell_type": "markdown",
   "id": "cd45201b-1d76-4815-a7d5-29eeedde2433",
   "metadata": {},
   "source": [
    "# tip:\n",
    "1 / 0 ==== infinite\n",
    "\n",
    "0 / 0 ==== not a number \n",
    "\n",
    "notice that you will not get an divided by zero error in numpy\n",
    "(even if you used just one numpy operand)"
   ]
  },
  {
   "cell_type": "markdown",
   "id": "9380ea32-bead-4d40-a5b7-0f6b4eb07430",
   "metadata": {},
   "source": [
    "# numpy tools "
   ]
  },
  {
   "cell_type": "code",
   "execution_count": 45,
   "id": "5021355a-84f4-4fd6-9ee3-12653c562286",
   "metadata": {},
   "outputs": [
    {
     "data": {
      "text/plain": [
       "array([1.        , 1.41421356, 1.73205081, 2.        , 2.23606798,\n",
       "       2.44948974, 2.64575131, 2.82842712, 3.        ])"
      ]
     },
     "execution_count": 45,
     "metadata": {},
     "output_type": "execute_result"
    }
   ],
   "source": [
    "np.sqrt(arr)"
   ]
  },
  {
   "cell_type": "code",
   "execution_count": 47,
   "id": "ab6159ee-48ba-4956-b041-847a9d37da7d",
   "metadata": {},
   "outputs": [
    {
     "data": {
      "text/plain": [
       "array([ 0.84147098,  0.90929743,  0.14112001, -0.7568025 , -0.95892427,\n",
       "       -0.2794155 ,  0.6569866 ,  0.98935825,  0.41211849])"
      ]
     },
     "execution_count": 47,
     "metadata": {},
     "output_type": "execute_result"
    }
   ],
   "source": [
    "np.sin(arr)"
   ]
  },
  {
   "cell_type": "code",
   "execution_count": 49,
   "id": "645a2b1b-60b7-4d33-9aaf-f7a6f110b0d0",
   "metadata": {},
   "outputs": [
    {
     "data": {
      "text/plain": [
       "array([0.        , 0.69314718, 1.09861229, 1.38629436, 1.60943791,\n",
       "       1.79175947, 1.94591015, 2.07944154, 2.19722458])"
      ]
     },
     "execution_count": 49,
     "metadata": {},
     "output_type": "execute_result"
    }
   ],
   "source": [
    "np.log(arr)"
   ]
  },
  {
   "cell_type": "markdown",
   "id": "46c52c21-18e7-4ba1-90f0-161463e73534",
   "metadata": {},
   "source": [
    "# numpy arr functions "
   ]
  },
  {
   "cell_type": "code",
   "execution_count": 52,
   "id": "af0d57c2-c61c-4c7f-8122-a98f543714b0",
   "metadata": {},
   "outputs": [
    {
     "data": {
      "text/plain": [
       "45"
      ]
     },
     "execution_count": 52,
     "metadata": {},
     "output_type": "execute_result"
    }
   ],
   "source": [
    "arr.sum()"
   ]
  },
  {
   "cell_type": "code",
   "execution_count": 54,
   "id": "e8393d16-be29-46e3-b251-ae75788a6cc0",
   "metadata": {},
   "outputs": [
    {
     "data": {
      "text/plain": [
       "5.0"
      ]
     },
     "execution_count": 54,
     "metadata": {},
     "output_type": "execute_result"
    }
   ],
   "source": [
    "arr.mean()"
   ]
  },
  {
   "cell_type": "code",
   "execution_count": 56,
   "id": "f821243d-8811-40ba-b0cd-f6a27c52f84d",
   "metadata": {},
   "outputs": [
    {
     "data": {
      "text/plain": [
       "6.666666666666667"
      ]
     },
     "execution_count": 56,
     "metadata": {},
     "output_type": "execute_result"
    }
   ],
   "source": [
    "arr.var()"
   ]
  },
  {
   "cell_type": "code",
   "execution_count": 58,
   "id": "bc0d4e0e-c38a-4aa6-a103-61219a26e420",
   "metadata": {},
   "outputs": [
    {
     "data": {
      "text/plain": [
       "2.581988897471611"
      ]
     },
     "execution_count": 58,
     "metadata": {},
     "output_type": "execute_result"
    }
   ],
   "source": [
    "arr.std()"
   ]
  },
  {
   "cell_type": "code",
   "execution_count": 60,
   "id": "5a6db5c0-1329-4055-a7ba-3eb8a2692fc9",
   "metadata": {},
   "outputs": [
    {
     "data": {
      "text/plain": [
       "9"
      ]
     },
     "execution_count": 60,
     "metadata": {},
     "output_type": "execute_result"
    }
   ],
   "source": [
    "arr.max()"
   ]
  },
  {
   "cell_type": "markdown",
   "id": "4fa39ee1-78a3-499e-8c47-75108e85e728",
   "metadata": {},
   "source": [
    "# 2D numpy array operations "
   ]
  },
  {
   "cell_type": "code",
   "execution_count": 63,
   "id": "cb6fe224-7325-4295-8779-cc4493b32df6",
   "metadata": {},
   "outputs": [],
   "source": [
    "arr_2D = np.arange(0, 25).reshape(5, 5)"
   ]
  },
  {
   "cell_type": "code",
   "execution_count": 65,
   "id": "542f1ca1-e008-4e2e-9fb8-24c39308983d",
   "metadata": {},
   "outputs": [
    {
     "data": {
      "text/plain": [
       "array([[ 0,  1,  2,  3,  4],\n",
       "       [ 5,  6,  7,  8,  9],\n",
       "       [10, 11, 12, 13, 14],\n",
       "       [15, 16, 17, 18, 19],\n",
       "       [20, 21, 22, 23, 24]])"
      ]
     },
     "execution_count": 65,
     "metadata": {},
     "output_type": "execute_result"
    }
   ],
   "source": [
    "arr_2D"
   ]
  },
  {
   "cell_type": "code",
   "execution_count": 67,
   "id": "7401d955-e364-4ae1-85d0-17efb776a9be",
   "metadata": {},
   "outputs": [
    {
     "data": {
      "text/plain": [
       "300"
      ]
     },
     "execution_count": 67,
     "metadata": {},
     "output_type": "execute_result"
    }
   ],
   "source": [
    "arr_2D.sum() # sum the all elements"
   ]
  },
  {
   "cell_type": "code",
   "execution_count": 69,
   "id": "65a0aacc-77df-46ab-9153-4834c6308314",
   "metadata": {},
   "outputs": [
    {
     "data": {
      "text/plain": [
       "array([50, 55, 60, 65, 70])"
      ]
     },
     "execution_count": 69,
     "metadata": {},
     "output_type": "execute_result"
    }
   ],
   "source": [
    "arr_2D.sum(axis=0) # sum only the columns"
   ]
  },
  {
   "cell_type": "code",
   "execution_count": 71,
   "id": "e3ad367a-4518-43c8-8848-ffe43c5d95d5",
   "metadata": {},
   "outputs": [
    {
     "data": {
      "text/plain": [
       "array([ 10,  35,  60,  85, 110])"
      ]
     },
     "execution_count": 71,
     "metadata": {},
     "output_type": "execute_result"
    }
   ],
   "source": [
    "arr_2D.sum(axis=1) # sum only the rows "
   ]
  }
 ],
 "metadata": {
  "kernelspec": {
   "display_name": "Python 3 (ipykernel)",
   "language": "python",
   "name": "python3"
  },
  "language_info": {
   "codemirror_mode": {
    "name": "ipython",
    "version": 3
   },
   "file_extension": ".py",
   "mimetype": "text/x-python",
   "name": "python",
   "nbconvert_exporter": "python",
   "pygments_lexer": "ipython3",
   "version": "3.12.4"
  }
 },
 "nbformat": 4,
 "nbformat_minor": 5
}

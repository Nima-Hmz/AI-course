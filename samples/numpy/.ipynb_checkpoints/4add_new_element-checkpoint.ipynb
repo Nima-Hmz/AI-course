{
 "cells": [
  {
   "cell_type": "code",
   "execution_count": 2,
   "id": "30fae923-eab5-4d83-a502-28f6a71be34d",
   "metadata": {},
   "outputs": [],
   "source": [
    "import numpy as np"
   ]
  },
  {
   "cell_type": "markdown",
   "id": "6f63347a-6246-438b-a168-de27db8d7951",
   "metadata": {},
   "source": [
    "# tip"
   ]
  },
  {
   "cell_type": "markdown",
   "id": "710c8890-e752-45cf-9c18-683d16a1697a",
   "metadata": {},
   "source": [
    "it's impossible to add an element to numpy array"
   ]
  },
  {
   "cell_type": "markdown",
   "id": "dec954a3-29be-4aa0-9ff7-b3e1626e564e",
   "metadata": {},
   "source": [
    "instead use this : "
   ]
  },
  {
   "cell_type": "code",
   "execution_count": 7,
   "id": "8ef7c418-bc7a-498f-a175-71aa7e93e219",
   "metadata": {},
   "outputs": [],
   "source": [
    "array = np.array([1, 2, 3])"
   ]
  },
  {
   "cell_type": "code",
   "execution_count": 9,
   "id": "75a63af4-c183-4feb-866f-6ec4b8b8fe79",
   "metadata": {},
   "outputs": [
    {
     "data": {
      "text/plain": [
       "array([1, 2, 3])"
      ]
     },
     "execution_count": 9,
     "metadata": {},
     "output_type": "execute_result"
    }
   ],
   "source": [
    "array"
   ]
  },
  {
   "cell_type": "code",
   "execution_count": 11,
   "id": "0775124d-a242-4d22-9fda-04e42cd72153",
   "metadata": {},
   "outputs": [],
   "source": [
    "array2 = np.append(array, [4, 5])"
   ]
  },
  {
   "cell_type": "code",
   "execution_count": 13,
   "id": "62baa770-2a14-4187-b1b1-fa800c5ce9cd",
   "metadata": {},
   "outputs": [
    {
     "data": {
      "text/plain": [
       "array([1, 2, 3, 4, 5])"
      ]
     },
     "execution_count": 13,
     "metadata": {},
     "output_type": "execute_result"
    }
   ],
   "source": [
    "array2"
   ]
  }
 ],
 "metadata": {
  "kernelspec": {
   "display_name": "Python 3 (ipykernel)",
   "language": "python",
   "name": "python3"
  },
  "language_info": {
   "codemirror_mode": {
    "name": "ipython",
    "version": 3
   },
   "file_extension": ".py",
   "mimetype": "text/x-python",
   "name": "python",
   "nbconvert_exporter": "python",
   "pygments_lexer": "ipython3",
   "version": "3.12.4"
  }
 },
 "nbformat": 4,
 "nbformat_minor": 5
}

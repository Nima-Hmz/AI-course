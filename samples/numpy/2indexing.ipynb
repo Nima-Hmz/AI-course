{
 "cells": [
  {
   "cell_type": "code",
   "execution_count": 5,
   "id": "1c918ba3-7bab-4bdd-aec4-98dc8f9d1eff",
   "metadata": {},
   "outputs": [],
   "source": [
    "import numpy as np"
   ]
  },
  {
   "cell_type": "code",
   "execution_count": 7,
   "id": "608ec6c4-a864-44be-b158-41cba9c02d72",
   "metadata": {},
   "outputs": [],
   "source": [
    "arr = np.arange(0, 11)"
   ]
  },
  {
   "cell_type": "code",
   "execution_count": 9,
   "id": "f288ceb6-7702-4298-826b-e119133ef119",
   "metadata": {},
   "outputs": [
    {
     "data": {
      "text/plain": [
       "array([ 0,  1,  2,  3,  4,  5,  6,  7,  8,  9, 10])"
      ]
     },
     "execution_count": 9,
     "metadata": {},
     "output_type": "execute_result"
    }
   ],
   "source": [
    "arr "
   ]
  },
  {
   "cell_type": "markdown",
   "id": "f3ba8500-6e8a-4812-8a05-df36ca5d1001",
   "metadata": {},
   "source": [
    "# broadcasting\n",
    "##################################"
   ]
  },
  {
   "cell_type": "markdown",
   "id": "aef1f2fb-3681-429e-90f7-ab55aa4487d9",
   "metadata": {},
   "source": [
    "1) only in numpy"
   ]
  },
  {
   "cell_type": "code",
   "execution_count": 12,
   "id": "c3c98107-c9b0-486f-b471-3116eaa2b970",
   "metadata": {},
   "outputs": [],
   "source": [
    "arr[:5] = 200"
   ]
  },
  {
   "cell_type": "code",
   "execution_count": 14,
   "id": "67d93a65-c567-4055-bb76-a7ce32609968",
   "metadata": {},
   "outputs": [
    {
     "data": {
      "text/plain": [
       "array([200, 200, 200, 200, 200,   5,   6,   7,   8,   9,  10])"
      ]
     },
     "execution_count": 14,
     "metadata": {},
     "output_type": "execute_result"
    }
   ],
   "source": [
    "arr "
   ]
  },
  {
   "cell_type": "markdown",
   "id": "7377c4a1-3767-4dca-8cdf-4283b544c21d",
   "metadata": {},
   "source": [
    "2) copy(refrence)"
   ]
  },
  {
   "cell_type": "code",
   "execution_count": 20,
   "id": "6fbd4f3f-9846-48ef-af69-943d4559f335",
   "metadata": {},
   "outputs": [],
   "source": [
    "slice_of_arr = arr[:6]"
   ]
  },
  {
   "cell_type": "code",
   "execution_count": 22,
   "id": "52be521c-88c1-4ac2-a2de-0f939bc87cbd",
   "metadata": {},
   "outputs": [
    {
     "data": {
      "text/plain": [
       "array([200, 200, 200, 200, 200,   5])"
      ]
     },
     "execution_count": 22,
     "metadata": {},
     "output_type": "execute_result"
    }
   ],
   "source": [
    "slice_of_arr"
   ]
  },
  {
   "cell_type": "code",
   "execution_count": 24,
   "id": "c5e482bc-9fb2-461a-a37e-be42dbab409a",
   "metadata": {},
   "outputs": [],
   "source": [
    "slice_of_arr[:] =300 "
   ]
  },
  {
   "cell_type": "code",
   "execution_count": 26,
   "id": "6e6fb814-cc54-4f86-8449-33dba2a0a90c",
   "metadata": {},
   "outputs": [
    {
     "data": {
      "text/plain": [
       "array([300, 300, 300, 300, 300, 300])"
      ]
     },
     "execution_count": 26,
     "metadata": {},
     "output_type": "execute_result"
    }
   ],
   "source": [
    "slice_of_arr"
   ]
  },
  {
   "cell_type": "code",
   "execution_count": 28,
   "id": "6054ab4b-0bb5-4449-aa94-57e8b9b28a61",
   "metadata": {},
   "outputs": [
    {
     "data": {
      "text/plain": [
       "array([300, 300, 300, 300, 300, 300,   6,   7,   8,   9,  10])"
      ]
     },
     "execution_count": 28,
     "metadata": {},
     "output_type": "execute_result"
    }
   ],
   "source": [
    "arr"
   ]
  },
  {
   "cell_type": "markdown",
   "id": "cbdca415-a8f0-4643-bb01-e1a8b7ffb0ff",
   "metadata": {},
   "source": [
    "3) actual copy"
   ]
  },
  {
   "cell_type": "code",
   "execution_count": 32,
   "id": "69470a30-ebab-47d7-b7f1-fbde15f157dc",
   "metadata": {},
   "outputs": [],
   "source": [
    "slice_of_arr2 = arr.copy()"
   ]
  },
  {
   "cell_type": "code",
   "execution_count": 34,
   "id": "3666b9af-72b5-43d5-a279-0493640a365b",
   "metadata": {},
   "outputs": [],
   "source": [
    "slice_of_arr2[:] = 400"
   ]
  },
  {
   "cell_type": "code",
   "execution_count": 36,
   "id": "301324a9-7ef4-495a-abe4-360aa8cb512e",
   "metadata": {},
   "outputs": [
    {
     "data": {
      "text/plain": [
       "array([400, 400, 400, 400, 400, 400, 400, 400, 400, 400, 400])"
      ]
     },
     "execution_count": 36,
     "metadata": {},
     "output_type": "execute_result"
    }
   ],
   "source": [
    "slice_of_arr2"
   ]
  },
  {
   "cell_type": "code",
   "execution_count": 38,
   "id": "0bc460bf-2df5-4a81-b1e9-ebb9d15fad3b",
   "metadata": {},
   "outputs": [
    {
     "data": {
      "text/plain": [
       "array([300, 300, 300, 300, 300, 300,   6,   7,   8,   9,  10])"
      ]
     },
     "execution_count": 38,
     "metadata": {},
     "output_type": "execute_result"
    }
   ],
   "source": [
    "arr"
   ]
  },
  {
   "cell_type": "markdown",
   "id": "188bd02f-e125-4b88-9e50-f0d10ed48f72",
   "metadata": {},
   "source": [
    "# 2D indexing "
   ]
  },
  {
   "cell_type": "code",
   "execution_count": 41,
   "id": "882011d7-da30-4a07-bedc-76b624e98ef4",
   "metadata": {},
   "outputs": [],
   "source": [
    "arr_2d = np.array([[1, 2, 3], [1, 2, 3], [1, 2, 3]])"
   ]
  },
  {
   "cell_type": "code",
   "execution_count": 43,
   "id": "6f5f298e-3d83-4624-bc06-28ed57bf2cf5",
   "metadata": {},
   "outputs": [
    {
     "data": {
      "text/plain": [
       "array([[1, 2, 3],\n",
       "       [1, 2, 3],\n",
       "       [1, 2, 3]])"
      ]
     },
     "execution_count": 43,
     "metadata": {},
     "output_type": "execute_result"
    }
   ],
   "source": [
    "arr_2d"
   ]
  },
  {
   "cell_type": "code",
   "execution_count": 47,
   "id": "d644d0a8-3f86-4ae4-a641-be2e773eeebc",
   "metadata": {},
   "outputs": [
    {
     "data": {
      "text/plain": [
       "array([1, 2, 3])"
      ]
     },
     "execution_count": 47,
     "metadata": {},
     "output_type": "execute_result"
    }
   ],
   "source": [
    "arr_2d[0] # first row"
   ]
  },
  {
   "cell_type": "code",
   "execution_count": 49,
   "id": "8e4a0b79-0261-437d-a122-551a18b796eb",
   "metadata": {},
   "outputs": [
    {
     "data": {
      "text/plain": [
       "2"
      ]
     },
     "execution_count": 49,
     "metadata": {},
     "output_type": "execute_result"
    }
   ],
   "source": [
    "arr_2d[1][1] # center element"
   ]
  },
  {
   "cell_type": "code",
   "execution_count": 51,
   "id": "cfb9c23d-ea0a-4fe6-a46d-1814da42b6bf",
   "metadata": {},
   "outputs": [
    {
     "data": {
      "text/plain": [
       "2"
      ]
     },
     "execution_count": 51,
     "metadata": {},
     "output_type": "execute_result"
    }
   ],
   "source": [
    "arr_2d[1, 1] # center element"
   ]
  },
  {
   "cell_type": "code",
   "execution_count": 53,
   "id": "196d1bfa-2bd6-42fc-b2d5-274a91857ef5",
   "metadata": {},
   "outputs": [
    {
     "data": {
      "text/plain": [
       "array([[1, 2, 3],\n",
       "       [1, 2, 3]])"
      ]
     },
     "execution_count": 53,
     "metadata": {},
     "output_type": "execute_result"
    }
   ],
   "source": [
    "arr_2d[:2] # first two rows "
   ]
  },
  {
   "cell_type": "code",
   "execution_count": 57,
   "id": "deb6dc12-ee1e-4097-8399-20b53ea9a3f6",
   "metadata": {},
   "outputs": [
    {
     "data": {
      "text/plain": [
       "array([[2, 3],\n",
       "       [2, 3]])"
      ]
     },
     "execution_count": 57,
     "metadata": {},
     "output_type": "execute_result"
    }
   ],
   "source": [
    "arr_2d[:2, 1:] # fisrt two rows & second and third column"
   ]
  },
  {
   "cell_type": "markdown",
   "id": "ca6f628f-00a6-490e-a380-1f38bd49d686",
   "metadata": {},
   "source": [
    "# conditional selection\n",
    "1) simple one "
   ]
  },
  {
   "cell_type": "code",
   "execution_count": 64,
   "id": "d97c74ac-308b-4471-9d86-506e534ed82f",
   "metadata": {},
   "outputs": [
    {
     "data": {
      "text/plain": [
       "array([ True,  True,  True,  True,  True,  True, False, False, False,\n",
       "       False, False])"
      ]
     },
     "execution_count": 64,
     "metadata": {},
     "output_type": "execute_result"
    }
   ],
   "source": [
    "arr > 10"
   ]
  },
  {
   "cell_type": "code",
   "execution_count": 72,
   "id": "4c9ed958-0eed-41dd-8351-8ba640aefd08",
   "metadata": {},
   "outputs": [],
   "source": [
    "bool_arr = arr > 10"
   ]
  },
  {
   "cell_type": "code",
   "execution_count": 74,
   "id": "ddaa718e-9d23-4f82-9ec2-44323dba5166",
   "metadata": {},
   "outputs": [
    {
     "data": {
      "text/plain": [
       "array([ True,  True,  True,  True,  True,  True, False, False, False,\n",
       "       False, False])"
      ]
     },
     "execution_count": 74,
     "metadata": {},
     "output_type": "execute_result"
    }
   ],
   "source": [
    "bool_arr"
   ]
  },
  {
   "cell_type": "code",
   "execution_count": 76,
   "id": "3373e401-1716-4472-adc5-5befb932b47f",
   "metadata": {},
   "outputs": [
    {
     "data": {
      "text/plain": [
       "array([300, 300, 300, 300, 300, 300])"
      ]
     },
     "execution_count": 76,
     "metadata": {},
     "output_type": "execute_result"
    }
   ],
   "source": [
    "arr[bool_arr]"
   ]
  },
  {
   "cell_type": "markdown",
   "id": "a3a1ddc5-f2a5-42e4-be71-d1a4be2be52a",
   "metadata": {},
   "source": [
    "2) pro one"
   ]
  },
  {
   "cell_type": "code",
   "execution_count": 79,
   "id": "367d5fac-b467-46ea-a696-5e93771a9462",
   "metadata": {},
   "outputs": [
    {
     "data": {
      "text/plain": [
       "array([300, 300, 300, 300, 300, 300])"
      ]
     },
     "execution_count": 79,
     "metadata": {},
     "output_type": "execute_result"
    }
   ],
   "source": [
    "arr[arr>10]"
   ]
  },
  {
   "cell_type": "code",
   "execution_count": null,
   "id": "027ab067-d991-40dd-853e-e95093dad702",
   "metadata": {},
   "outputs": [],
   "source": []
  }
 ],
 "metadata": {
  "kernelspec": {
   "display_name": "Python 3 (ipykernel)",
   "language": "python",
   "name": "python3"
  },
  "language_info": {
   "codemirror_mode": {
    "name": "ipython",
    "version": 3
   },
   "file_extension": ".py",
   "mimetype": "text/x-python",
   "name": "python",
   "nbconvert_exporter": "python",
   "pygments_lexer": "ipython3",
   "version": "3.12.4"
  }
 },
 "nbformat": 4,
 "nbformat_minor": 5
}

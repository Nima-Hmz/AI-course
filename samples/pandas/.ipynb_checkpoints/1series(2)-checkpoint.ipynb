{
 "cells": [
  {
   "cell_type": "code",
   "execution_count": 8,
   "id": "c2c6450a-8ad2-4c88-8c44-dc18e6480619",
   "metadata": {},
   "outputs": [],
   "source": [
    "import pandas as pd"
   ]
  },
  {
   "cell_type": "code",
   "execution_count": 25,
   "id": "61204cee-dfa6-4b9f-82c8-c38188cabc34",
   "metadata": {},
   "outputs": [],
   "source": [
    "import numpy as np"
   ]
  },
  {
   "cell_type": "code",
   "execution_count": 60,
   "id": "d8d6d45b-def2-49b0-a370-d6da05acb23f",
   "metadata": {},
   "outputs": [],
   "source": [
    "data = [1, 2, 3]"
   ]
  },
  {
   "cell_type": "code",
   "execution_count": 68,
   "id": "87c0aea2-5017-48f2-8e36-176798bf938d",
   "metadata": {},
   "outputs": [],
   "source": [
    "index = ['first', 'last', 'last+']"
   ]
  },
  {
   "cell_type": "code",
   "execution_count": 72,
   "id": "f0bbcb4a-a581-4816-97e7-704ff789f6cf",
   "metadata": {},
   "outputs": [],
   "source": [
    "series1 = pd.Series(data=data, index=index)"
   ]
  },
  {
   "cell_type": "code",
   "execution_count": 45,
   "id": "56946385-e6a8-4d04-bd9e-d899c8b26000",
   "metadata": {},
   "outputs": [
    {
     "data": {
      "text/plain": [
       "first    1\n",
       "last     2\n",
       "dtype: int64"
      ]
     },
     "execution_count": 45,
     "metadata": {},
     "output_type": "execute_result"
    }
   ],
   "source": [
    "series1"
   ]
  },
  {
   "cell_type": "markdown",
   "id": "c58dbc16-c54d-4d92-bdc6-7123e28d8744",
   "metadata": {},
   "source": [
    "# checking keys "
   ]
  },
  {
   "cell_type": "code",
   "execution_count": 20,
   "id": "8a0aa080-d350-4d21-9152-a6372472013e",
   "metadata": {},
   "outputs": [
    {
     "data": {
      "text/plain": [
       "Index(['first', 'last'], dtype='object')"
      ]
     },
     "execution_count": 20,
     "metadata": {},
     "output_type": "execute_result"
    }
   ],
   "source": [
    "series1.keys()"
   ]
  },
  {
   "cell_type": "markdown",
   "id": "73ffb86e-5881-4fb4-8085-615762128352",
   "metadata": {},
   "source": [
    "# operations"
   ]
  },
  {
   "cell_type": "markdown",
   "id": "fed5b4cf-2457-4f57-8202-55ddfb845c1f",
   "metadata": {},
   "source": [
    "in numpy it broad cast but in python it just get doubled (pandas use numpy)"
   ]
  },
  {
   "cell_type": "code",
   "execution_count": 49,
   "id": "1f59617a-5d1d-4e93-a10e-52763069dec8",
   "metadata": {},
   "outputs": [],
   "source": [
    "series2 = series1 * 2"
   ]
  },
  {
   "cell_type": "code",
   "execution_count": 51,
   "id": "3c02c7a9-837f-4eb8-af74-acd46a010158",
   "metadata": {},
   "outputs": [
    {
     "data": {
      "text/plain": [
       "first    2\n",
       "last     4\n",
       "dtype: int64"
      ]
     },
     "execution_count": 51,
     "metadata": {},
     "output_type": "execute_result"
    }
   ],
   "source": [
    "series2"
   ]
  },
  {
   "cell_type": "markdown",
   "id": "e9863ff6-4d99-404f-8ab7-3b8289faadba",
   "metadata": {},
   "source": [
    "# sum of two series "
   ]
  },
  {
   "cell_type": "markdown",
   "id": "a45175bb-c729-4a2d-9fd5-89953f39407c",
   "metadata": {},
   "source": [
    "1) first the problem with nan "
   ]
  },
  {
   "cell_type": "code",
   "execution_count": 74,
   "id": "01ca5863-a3c9-44f5-98f0-9e02a0afaf90",
   "metadata": {},
   "outputs": [
    {
     "data": {
      "text/plain": [
       "first    1\n",
       "last     2\n",
       "last+    3\n",
       "dtype: int64"
      ]
     },
     "execution_count": 74,
     "metadata": {},
     "output_type": "execute_result"
    }
   ],
   "source": [
    "series1"
   ]
  },
  {
   "cell_type": "code",
   "execution_count": 58,
   "id": "2f09390e-fd7e-47a9-9064-260ef422588e",
   "metadata": {},
   "outputs": [
    {
     "data": {
      "text/plain": [
       "first    2\n",
       "last     4\n",
       "dtype: int64"
      ]
     },
     "execution_count": 58,
     "metadata": {},
     "output_type": "execute_result"
    }
   ],
   "source": [
    "series2"
   ]
  },
  {
   "cell_type": "code",
   "execution_count": 76,
   "id": "87f78049-65a1-4342-abc6-fc417a4c3fc8",
   "metadata": {},
   "outputs": [
    {
     "data": {
      "text/plain": [
       "first    3.0\n",
       "last     6.0\n",
       "last+    NaN\n",
       "dtype: float64"
      ]
     },
     "execution_count": 76,
     "metadata": {},
     "output_type": "execute_result"
    }
   ],
   "source": [
    "series1 + series2"
   ]
  },
  {
   "cell_type": "markdown",
   "id": "0f5ebb90-6d39-4e42-b0b6-1a5c9124dc21",
   "metadata": {},
   "source": [
    "2) to solve that :"
   ]
  },
  {
   "cell_type": "code",
   "execution_count": 81,
   "id": "598e37e6-39bd-4f66-9eb5-6627b8f415a5",
   "metadata": {},
   "outputs": [
    {
     "data": {
      "text/plain": [
       "first    3.0\n",
       "last     6.0\n",
       "last+    3.0\n",
       "dtype: float64"
      ]
     },
     "execution_count": 81,
     "metadata": {},
     "output_type": "execute_result"
    }
   ],
   "source": [
    "series1.add(series2, fill_value=0)"
   ]
  },
  {
   "cell_type": "markdown",
   "id": "3539489e-ede5-40cf-a261-7be4c969f900",
   "metadata": {},
   "source": [
    " # datatypes "
   ]
  },
  {
   "cell_type": "markdown",
   "id": "b9fbf9de-438b-47e8-9290-73b974cf5cc6",
   "metadata": {},
   "source": [
    "1) in general as soon you start doing numeric computation with any objects in pandas \n",
    "it's going to be converted to a floating point number."
   ]
  },
  {
   "cell_type": "code",
   "execution_count": 85,
   "id": "0230920f-3f31-4400-acd7-c46f99e72fba",
   "metadata": {},
   "outputs": [
    {
     "data": {
      "text/plain": [
       "dtype('int64')"
      ]
     },
     "execution_count": 85,
     "metadata": {},
     "output_type": "execute_result"
    }
   ],
   "source": [
    "series1.dtype"
   ]
  },
  {
   "cell_type": "code",
   "execution_count": 93,
   "id": "4b86c6d2-da33-4f78-97db-da210bc3f384",
   "metadata": {},
   "outputs": [],
   "source": [
    "series1 = series1.astype(float)"
   ]
  },
  {
   "cell_type": "code",
   "execution_count": 95,
   "id": "394f53af-346d-416a-8930-7e0d1f722067",
   "metadata": {},
   "outputs": [
    {
     "data": {
      "text/plain": [
       "dtype('float64')"
      ]
     },
     "execution_count": 95,
     "metadata": {},
     "output_type": "execute_result"
    }
   ],
   "source": [
    "series1.dtype"
   ]
  },
  {
   "cell_type": "code",
   "execution_count": null,
   "id": "86bfc711-5202-43eb-868c-335df757d9c1",
   "metadata": {},
   "outputs": [],
   "source": []
  }
 ],
 "metadata": {
  "kernelspec": {
   "display_name": "Python 3 (ipykernel)",
   "language": "python",
   "name": "python3"
  },
  "language_info": {
   "codemirror_mode": {
    "name": "ipython",
    "version": 3
   },
   "file_extension": ".py",
   "mimetype": "text/x-python",
   "name": "python",
   "nbconvert_exporter": "python",
   "pygments_lexer": "ipython3",
   "version": "3.12.4"
  }
 },
 "nbformat": 4,
 "nbformat_minor": 5
}

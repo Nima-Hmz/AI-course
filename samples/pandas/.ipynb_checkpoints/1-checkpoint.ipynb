{
 "cells": [
  {
   "cell_type": "code",
   "execution_count": 2,
   "id": "c4f84490-1e2e-41c7-9ab5-627b2806ba1f",
   "metadata": {},
   "outputs": [],
   "source": [
    "import numpy as np"
   ]
  },
  {
   "cell_type": "code",
   "execution_count": 6,
   "id": "a35f6131-5dc0-4804-8ad9-ca5c2ef51f4c",
   "metadata": {},
   "outputs": [],
   "source": [
    "import pandas as pd "
   ]
  },
  {
   "cell_type": "code",
   "execution_count": 13,
   "id": "8d3063ea-1533-444e-9f3f-0edea103a60d",
   "metadata": {},
   "outputs": [],
   "source": [
    "# help(pd.Series)"
   ]
  },
  {
   "cell_type": "markdown",
   "id": "fddacda7-654f-4521-bd04-61a7173c71a1",
   "metadata": {},
   "source": [
    "# first way creating series"
   ]
  },
  {
   "cell_type": "code",
   "execution_count": 15,
   "id": "b4b07880-e88e-4237-9fd5-7005f8616fc5",
   "metadata": {},
   "outputs": [],
   "source": [
    "my_index = ['usa', 'canada', 'mexico']"
   ]
  },
  {
   "cell_type": "code",
   "execution_count": 17,
   "id": "27bd4f6f-9e6a-41ab-9ceb-c93676b02925",
   "metadata": {},
   "outputs": [],
   "source": [
    "my_data = [1776, 1867, 1821]"
   ]
  },
  {
   "cell_type": "code",
   "execution_count": 19,
   "id": "5c917960-f70e-4b90-8bb9-72536c9ced87",
   "metadata": {},
   "outputs": [],
   "source": [
    "my_series = pd.Series(data=my_data, index=my_index)"
   ]
  },
  {
   "cell_type": "code",
   "execution_count": 21,
   "id": "b56cdf13-00f0-47b6-90bb-320750d406e7",
   "metadata": {},
   "outputs": [
    {
     "data": {
      "text/plain": [
       "pandas.core.series.Series"
      ]
     },
     "execution_count": 21,
     "metadata": {},
     "output_type": "execute_result"
    }
   ],
   "source": [
    "type(my_series)"
   ]
  },
  {
   "cell_type": "code",
   "execution_count": 25,
   "id": "aad06adb-98a4-41a7-b1eb-d5caf29e04c0",
   "metadata": {},
   "outputs": [
    {
     "data": {
      "text/plain": [
       "usa       1776\n",
       "canada    1867\n",
       "mexico    1821\n",
       "dtype: int64"
      ]
     },
     "execution_count": 25,
     "metadata": {},
     "output_type": "execute_result"
    }
   ],
   "source": [
    "my_series"
   ]
  },
  {
   "cell_type": "markdown",
   "id": "be861e8a-6e29-4e2a-91a0-36ad7e927778",
   "metadata": {},
   "source": [
    "# second way"
   ]
  },
  {
   "cell_type": "code",
   "execution_count": 28,
   "id": "15ceea76-ef95-4ab0-9be8-7167036456cf",
   "metadata": {},
   "outputs": [],
   "source": [
    "ages = {'nima':2, 'mamad':3, 'ali':4}"
   ]
  },
  {
   "cell_type": "code",
   "execution_count": 30,
   "id": "9e0abd68-383c-41cf-98f7-537a442f3e93",
   "metadata": {},
   "outputs": [],
   "source": [
    "my_series2 = pd.Series(data=ages)"
   ]
  },
  {
   "cell_type": "code",
   "execution_count": 32,
   "id": "c309be26-affa-435c-8f65-b397f739fe18",
   "metadata": {},
   "outputs": [
    {
     "data": {
      "text/plain": [
       "nima     2\n",
       "mamad    3\n",
       "ali      4\n",
       "dtype: int64"
      ]
     },
     "execution_count": 32,
     "metadata": {},
     "output_type": "execute_result"
    }
   ],
   "source": [
    "my_series2"
   ]
  },
  {
   "cell_type": "markdown",
   "id": "ca28c2ab-14e2-4f0d-85bb-00a2e053cc6d",
   "metadata": {},
   "source": [
    "# how to use ? "
   ]
  },
  {
   "cell_type": "code",
   "execution_count": 37,
   "id": "15edcfa9-9bcf-44d7-bc72-1904c38a98ca",
   "metadata": {},
   "outputs": [
    {
     "data": {
      "text/plain": [
       "1776"
      ]
     },
     "execution_count": 37,
     "metadata": {},
     "output_type": "execute_result"
    }
   ],
   "source": [
    "my_series['usa']"
   ]
  },
  {
   "cell_type": "code",
   "execution_count": null,
   "id": "2cd12c5a-ef7d-4ddf-9145-daae9d0d3ad0",
   "metadata": {},
   "outputs": [],
   "source": []
  }
 ],
 "metadata": {
  "kernelspec": {
   "display_name": "Python 3 (ipykernel)",
   "language": "python",
   "name": "python3"
  },
  "language_info": {
   "codemirror_mode": {
    "name": "ipython",
    "version": 3
   },
   "file_extension": ".py",
   "mimetype": "text/x-python",
   "name": "python",
   "nbconvert_exporter": "python",
   "pygments_lexer": "ipython3",
   "version": "3.12.4"
  }
 },
 "nbformat": 4,
 "nbformat_minor": 5
}
